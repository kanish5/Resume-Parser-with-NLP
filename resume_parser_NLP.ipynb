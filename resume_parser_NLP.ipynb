{
  "nbformat": 4,
  "nbformat_minor": 0,
  "metadata": {
    "colab": {
      "provenance": []
    },
    "kernelspec": {
      "name": "python3",
      "display_name": "Python 3"
    },
    "language_info": {
      "name": "python"
    }
  },
  "cells": [
    {
      "cell_type": "code",
      "execution_count": 6,
      "metadata": {
        "colab": {
          "base_uri": "https://localhost:8080/"
        },
        "id": "WRnq6cpSdNig",
        "outputId": "df9eb6dd-5ca2-483c-a5ec-be6f94cd1ec6"
      },
      "outputs": [
        {
          "output_type": "stream",
          "name": "stdout",
          "text": [
            "✅ Resume parsed and saved as JSON\n"
          ]
        }
      ],
      "source": [
        "# parser/extractor.py\n",
        "\n",
        "import fitz  # PyMuPDF\n",
        "import re\n",
        "import os\n",
        "import spacy\n",
        "import json\n",
        "\n",
        "nlp = spacy.load(\"en_core_web_sm\")\n",
        "\n",
        "def extract_text_from_pdf(pdf_path):\n",
        "    doc = fitz.open(pdf_path)\n",
        "    text = \"\"\n",
        "    for page in doc:\n",
        "        text += page.get_text()\n",
        "    return text\n",
        "\n",
        "def extract_email(text):\n",
        "    match = re.findall(r\"[a-zA-Z0-9_.+-]+@[a-zA-Z0-9-]+\\.[a-zA-Z0-9-.]+\", text)\n",
        "    return match[0] if match else None\n",
        "\n",
        "def extract_phone(text):\n",
        "    match = re.findall(r\"\\+?\\d[\\d\\s\\-()]{8,}\", text)\n",
        "    return match[0] if match else None\n",
        "\n",
        "def extract_links(text):\n",
        "    return re.findall(r\"https?://[^\\s]+\", text)\n",
        "\n",
        "def extract_name(text):\n",
        "    doc = nlp(text)\n",
        "    for ent in doc.ents:\n",
        "        if ent.label_ == \"PERSON\":\n",
        "            return ent.text\n",
        "    return None\n",
        "\n",
        "def extract_skills(text):\n",
        "    keywords = [\"python\", \"sql\", \"r\", \"pandas\", \"excel\", \"scikit-learn\", \"power bi\", \"tableau\", \"docker\"]\n",
        "    skills_found = [kw.title() for kw in keywords if kw.lower() in text.lower()]\n",
        "    return list(set(skills_found))\n",
        "\n",
        "def parse_resume(pdf_path):\n",
        "    text = extract_text_from_pdf(pdf_path)\n",
        "    return {\n",
        "        \"name\": extract_name(text),\n",
        "        \"email\": extract_email(text),\n",
        "        \"phone\": extract_phone(text),\n",
        "        \"links\": extract_links(text),\n",
        "        \"skills\": extract_skills(text)\n",
        "    }\n",
        "\n",
        "if __name__ == \"__main__\":\n",
        "    os.makedirs(\"output\", exist_ok=True)\n",
        "\n",
        "parsed = parse_resume(\"Kanish_Resume_DS.pdf\")\n",
        "\n",
        "with open(\"output/kanish_resume_parsed.json\", \"w\") as f:\n",
        "    json.dump(parsed, f, indent=4)\n",
        "\n",
        "print(\"✅ Resume parsed and saved as JSON\")"
      ]
    }
  ]
}